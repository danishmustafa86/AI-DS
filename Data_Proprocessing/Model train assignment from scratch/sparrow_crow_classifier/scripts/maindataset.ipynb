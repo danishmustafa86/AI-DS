{
 "cells": [
  {
   "cell_type": "code",
   "execution_count": null,
   "id": "f1974a00",
   "metadata": {
    "vscode": {
     "languageId": "plaintext"
    }
   },
   "outputs": [],
   "source": [
    "pip install kaggle opencv-python matplotlib tensorflow scikit-learn\n"
   ]
  },
  {
   "cell_type": "markdown",
   "id": "72f06849",
   "metadata": {},
   "source": [
    "Step 1: Download and Extract Dataset from Kaggle"
   ]
  },
  {
   "cell_type": "code",
   "execution_count": null,
   "id": "52570441",
   "metadata": {
    "vscode": {
     "languageId": "plaintext"
    }
   },
   "outputs": [],
   "source": [
    "import os\n",
    "import zipfile\n",
    "\n",
    "# Step 1: Setup Kaggle API key\n",
    "os.environ['KAGGLE_CONFIG_DIR'] = os.getcwd()\n",
    "\n",
    "# Step 2: Download dataset\n",
    "!kaggle datasets download -d <dataset-username>/<dataset-name>  # Replace accordingly\n",
    "\n",
    "# Step 3: Unzip dataset\n",
    "with zipfile.ZipFile(\"<dataset-name>.zip\", 'r') as zip_ref:\n",
    "    zip_ref.extractall(\"bird_dataset\")\n",
    "\n",
    "print(\"Dataset extracted to:\", os.path.abspath(\"bird_dataset\"))\n"
   ]
  }
 ],
 "metadata": {
  "language_info": {
   "name": "python"
  }
 },
 "nbformat": 4,
 "nbformat_minor": 5
}
